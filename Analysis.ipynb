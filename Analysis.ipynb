{
 "cells": [
  {
   "cell_type": "markdown",
   "id": "9df286e0",
   "metadata": {},
   "source": [
    "### First, we are going to import our libraries, read in the data set, and preview the data to get and idea of the data quality"
   ]
  },
  {
   "cell_type": "code",
   "execution_count": 1,
   "id": "90234b69",
   "metadata": {},
   "outputs": [],
   "source": [
    "#Import libraries\n",
    "import pandas as pd\n",
    "import numpy as np\n",
    "import matplotlib.pyplot as plt\n",
    "import seaborn as sns\n",
    "import statistics\n",
    "import scipy.stats as stats\n",
    "from scipy.stats import pearsonr\n",
    "from scipy.stats import norm\n",
    "import math"
   ]
  },
  {
   "cell_type": "code",
   "execution_count": 2,
   "id": "ec810517",
   "metadata": {},
   "outputs": [],
   "source": [
    "#Read the dataset\n",
    "df = pd.read_csv('dataset.csv')"
   ]
  },
  {
   "cell_type": "code",
   "execution_count": 3,
   "id": "d29f093e",
   "metadata": {},
   "outputs": [
    {
     "data": {
      "text/html": [
       "<div>\n",
       "<style scoped>\n",
       "    .dataframe tbody tr th:only-of-type {\n",
       "        vertical-align: middle;\n",
       "    }\n",
       "\n",
       "    .dataframe tbody tr th {\n",
       "        vertical-align: top;\n",
       "    }\n",
       "\n",
       "    .dataframe thead th {\n",
       "        text-align: right;\n",
       "    }\n",
       "</style>\n",
       "<table border=\"1\" class=\"dataframe\">\n",
       "  <thead>\n",
       "    <tr style=\"text-align: right;\">\n",
       "      <th></th>\n",
       "      <th>PlayerID</th>\n",
       "      <th>Age</th>\n",
       "      <th>Gender</th>\n",
       "      <th>Location</th>\n",
       "      <th>GameGenre</th>\n",
       "      <th>PlayTimeHours</th>\n",
       "      <th>InGamePurchases</th>\n",
       "      <th>GameDifficulty</th>\n",
       "      <th>SessionsPerWeek</th>\n",
       "      <th>AvgSessionDurationMinutes</th>\n",
       "      <th>PlayerLevel</th>\n",
       "      <th>AchievementsUnlocked</th>\n",
       "      <th>EngagementLevel</th>\n",
       "    </tr>\n",
       "  </thead>\n",
       "  <tbody>\n",
       "    <tr>\n",
       "      <th>0</th>\n",
       "      <td>9000</td>\n",
       "      <td>43</td>\n",
       "      <td>Male</td>\n",
       "      <td>Other</td>\n",
       "      <td>Strategy</td>\n",
       "      <td>16.271119</td>\n",
       "      <td>0</td>\n",
       "      <td>Medium</td>\n",
       "      <td>6</td>\n",
       "      <td>108</td>\n",
       "      <td>79</td>\n",
       "      <td>25</td>\n",
       "      <td>Medium</td>\n",
       "    </tr>\n",
       "    <tr>\n",
       "      <th>1</th>\n",
       "      <td>9001</td>\n",
       "      <td>29</td>\n",
       "      <td>Female</td>\n",
       "      <td>USA</td>\n",
       "      <td>Strategy</td>\n",
       "      <td>5.525961</td>\n",
       "      <td>0</td>\n",
       "      <td>Medium</td>\n",
       "      <td>5</td>\n",
       "      <td>144</td>\n",
       "      <td>11</td>\n",
       "      <td>10</td>\n",
       "      <td>Medium</td>\n",
       "    </tr>\n",
       "    <tr>\n",
       "      <th>2</th>\n",
       "      <td>9002</td>\n",
       "      <td>22</td>\n",
       "      <td>Female</td>\n",
       "      <td>USA</td>\n",
       "      <td>Sports</td>\n",
       "      <td>8.223755</td>\n",
       "      <td>0</td>\n",
       "      <td>Easy</td>\n",
       "      <td>16</td>\n",
       "      <td>142</td>\n",
       "      <td>35</td>\n",
       "      <td>41</td>\n",
       "      <td>High</td>\n",
       "    </tr>\n",
       "    <tr>\n",
       "      <th>3</th>\n",
       "      <td>9003</td>\n",
       "      <td>35</td>\n",
       "      <td>Male</td>\n",
       "      <td>USA</td>\n",
       "      <td>Action</td>\n",
       "      <td>5.265351</td>\n",
       "      <td>1</td>\n",
       "      <td>Easy</td>\n",
       "      <td>9</td>\n",
       "      <td>85</td>\n",
       "      <td>57</td>\n",
       "      <td>47</td>\n",
       "      <td>Medium</td>\n",
       "    </tr>\n",
       "    <tr>\n",
       "      <th>4</th>\n",
       "      <td>9004</td>\n",
       "      <td>33</td>\n",
       "      <td>Male</td>\n",
       "      <td>Europe</td>\n",
       "      <td>Action</td>\n",
       "      <td>15.531945</td>\n",
       "      <td>0</td>\n",
       "      <td>Medium</td>\n",
       "      <td>2</td>\n",
       "      <td>131</td>\n",
       "      <td>95</td>\n",
       "      <td>37</td>\n",
       "      <td>Medium</td>\n",
       "    </tr>\n",
       "  </tbody>\n",
       "</table>\n",
       "</div>"
      ],
      "text/plain": [
       "   PlayerID  Age  Gender Location GameGenre  PlayTimeHours  InGamePurchases  \\\n",
       "0      9000   43    Male    Other  Strategy      16.271119                0   \n",
       "1      9001   29  Female      USA  Strategy       5.525961                0   \n",
       "2      9002   22  Female      USA    Sports       8.223755                0   \n",
       "3      9003   35    Male      USA    Action       5.265351                1   \n",
       "4      9004   33    Male   Europe    Action      15.531945                0   \n",
       "\n",
       "  GameDifficulty  SessionsPerWeek  AvgSessionDurationMinutes  PlayerLevel  \\\n",
       "0         Medium                6                        108           79   \n",
       "1         Medium                5                        144           11   \n",
       "2           Easy               16                        142           35   \n",
       "3           Easy                9                         85           57   \n",
       "4         Medium                2                        131           95   \n",
       "\n",
       "   AchievementsUnlocked EngagementLevel  \n",
       "0                    25          Medium  \n",
       "1                    10          Medium  \n",
       "2                    41            High  \n",
       "3                    47          Medium  \n",
       "4                    37          Medium  "
      ]
     },
     "execution_count": 3,
     "metadata": {},
     "output_type": "execute_result"
    }
   ],
   "source": [
    "#Preview dataframe\n",
    "df.head()"
   ]
  },
  {
   "cell_type": "markdown",
   "id": "2aa7b3ce",
   "metadata": {},
   "source": [
    "### Next we are going to perform cleaning, so we will check for any null values"
   ]
  },
  {
   "cell_type": "code",
   "execution_count": 4,
   "id": "b553da21",
   "metadata": {},
   "outputs": [
    {
     "data": {
      "text/plain": [
       "PlayerID                     0\n",
       "Age                          0\n",
       "Gender                       0\n",
       "Location                     0\n",
       "GameGenre                    0\n",
       "PlayTimeHours                0\n",
       "InGamePurchases              0\n",
       "GameDifficulty               0\n",
       "SessionsPerWeek              0\n",
       "AvgSessionDurationMinutes    0\n",
       "PlayerLevel                  0\n",
       "AchievementsUnlocked         0\n",
       "EngagementLevel              0\n",
       "dtype: int64"
      ]
     },
     "execution_count": 4,
     "metadata": {},
     "output_type": "execute_result"
    }
   ],
   "source": [
    "#Checking for null values\n",
    "df.isnull().sum()"
   ]
  },
  {
   "cell_type": "markdown",
   "id": "662fc530",
   "metadata": {},
   "source": [
    "### As we can see there aren't any null values. Overall the data appears to be in good shape, and further cleaning is not really needed."
   ]
  },
  {
   "cell_type": "markdown",
   "id": "4ddc47ee",
   "metadata": {},
   "source": [
    "### Let's continue on and begin our Exploratory Analysis\n",
    "### Here we are just looking at a sum of male and female players"
   ]
  },
  {
   "cell_type": "code",
   "execution_count": 5,
   "id": "c6baa4bd",
   "metadata": {},
   "outputs": [
    {
     "data": {
      "text/plain": [
       "Male      23959\n",
       "Female    16075\n",
       "Name: Gender, dtype: int64"
      ]
     },
     "execution_count": 5,
     "metadata": {},
     "output_type": "execute_result"
    }
   ],
   "source": [
    "df['Gender'].value_counts()\n"
   ]
  },
  {
   "cell_type": "markdown",
   "id": "138b1d90",
   "metadata": {},
   "source": [
    "### And this is just showing it as a ratio. So we see Male players outnumber Female players by almost 20 percent."
   ]
  },
  {
   "cell_type": "code",
   "execution_count": 6,
   "id": "2219c9e5",
   "metadata": {},
   "outputs": [
    {
     "name": "stdout",
     "output_type": "stream",
     "text": [
      "Percentage of Male Players:  59.85\n",
      "Percentage of Female Players:  40.15\n"
     ]
    }
   ],
   "source": [
    "male_players = df['Gender'].value_counts()[0]\n",
    "female_players = df['Gender'].value_counts()[1]\n",
    "total_players = df.shape[0]\n",
    "percent_male_players = ((male_players / total_players) * 100).round(2)\n",
    "percent_female_players = ((female_players / total_players) * 100).round(2)\n",
    "\n",
    "print(\"Percentage of Male Players: \", percent_male_players)\n",
    "print(\"Percentage of Female Players: \", percent_female_players)"
   ]
  },
  {
   "cell_type": "markdown",
   "id": "d0acc1de",
   "metadata": {},
   "source": [
    "### Next we are going to perform a correlation test. In the cell below, we see a rating for each column comparing it to another. Here's how we interpret the results. Anything that is a 1 is just the column compared with itself. For the rest, the closer to 1 the numbers are, the stronger a column is related to another. Unfortunately, as we can see, the rest of the numbers are very small, so we cannot make any strong correlations between any of the data."
   ]
  },
  {
   "cell_type": "code",
   "execution_count": 7,
   "id": "93802730",
   "metadata": {},
   "outputs": [
    {
     "name": "stdout",
     "output_type": "stream",
     "text": [
      "                           PlayerID       Age  PlayTimeHours  InGamePurchases  \\\n",
      "PlayerID                   1.000000 -0.003044       0.000923         0.002321   \n",
      "Age                       -0.003044  1.000000       0.002462        -0.000186   \n",
      "PlayTimeHours              0.000923  0.002462       1.000000        -0.006067   \n",
      "InGamePurchases            0.002321 -0.000186      -0.006067         1.000000   \n",
      "SessionsPerWeek           -0.005944  0.008777      -0.003655         0.005132   \n",
      "AvgSessionDurationMinutes -0.001801 -0.002269      -0.001925        -0.003059   \n",
      "PlayerLevel               -0.001769  0.001353      -0.005152         0.006524   \n",
      "AchievementsUnlocked       0.003190 -0.001100       0.003913         0.000098   \n",
      "\n",
      "                           SessionsPerWeek  AvgSessionDurationMinutes  \\\n",
      "PlayerID                         -0.005944                  -0.001801   \n",
      "Age                               0.008777                  -0.002269   \n",
      "PlayTimeHours                    -0.003655                  -0.001925   \n",
      "InGamePurchases                   0.005132                  -0.003059   \n",
      "SessionsPerWeek                   1.000000                  -0.000620   \n",
      "AvgSessionDurationMinutes        -0.000620                   1.000000   \n",
      "PlayerLevel                       0.003257                   0.001368   \n",
      "AchievementsUnlocked              0.003187                  -0.002227   \n",
      "\n",
      "                           PlayerLevel  AchievementsUnlocked  \n",
      "PlayerID                     -0.001769              0.003190  \n",
      "Age                           0.001353             -0.001100  \n",
      "PlayTimeHours                -0.005152              0.003913  \n",
      "InGamePurchases               0.006524              0.000098  \n",
      "SessionsPerWeek               0.003257              0.003187  \n",
      "AvgSessionDurationMinutes     0.001368             -0.002227  \n",
      "PlayerLevel                   1.000000              0.006343  \n",
      "AchievementsUnlocked          0.006343              1.000000  \n"
     ]
    }
   ],
   "source": [
    "#Correlation analysis\n",
    "print(df.corr(numeric_only=True))"
   ]
  },
  {
   "cell_type": "markdown",
   "id": "acc803a0",
   "metadata": {},
   "source": [
    "### Next we are going to split the data into two subsets: Purchases and Non-Purchases, so further comparative analysis can be done."
   ]
  },
  {
   "cell_type": "code",
   "execution_count": 8,
   "id": "00c0bc19",
   "metadata": {},
   "outputs": [],
   "source": [
    "df_nop = df[df['InGamePurchases'] == 0] #No purchases\n",
    "df_p = df[df['InGamePurchases'] == 1] #Purchases"
   ]
  },
  {
   "cell_type": "markdown",
   "id": "1ed1da76",
   "metadata": {},
   "source": [
    "#### Purchases"
   ]
  },
  {
   "cell_type": "code",
   "execution_count": 10,
   "id": "ebe7a470",
   "metadata": {},
   "outputs": [
    {
     "data": {
      "text/html": [
       "<div>\n",
       "<style scoped>\n",
       "    .dataframe tbody tr th:only-of-type {\n",
       "        vertical-align: middle;\n",
       "    }\n",
       "\n",
       "    .dataframe tbody tr th {\n",
       "        vertical-align: top;\n",
       "    }\n",
       "\n",
       "    .dataframe thead th {\n",
       "        text-align: right;\n",
       "    }\n",
       "</style>\n",
       "<table border=\"1\" class=\"dataframe\">\n",
       "  <thead>\n",
       "    <tr style=\"text-align: right;\">\n",
       "      <th></th>\n",
       "      <th>PlayerID</th>\n",
       "      <th>Age</th>\n",
       "      <th>Gender</th>\n",
       "      <th>Location</th>\n",
       "      <th>GameGenre</th>\n",
       "      <th>PlayTimeHours</th>\n",
       "      <th>InGamePurchases</th>\n",
       "      <th>GameDifficulty</th>\n",
       "      <th>SessionsPerWeek</th>\n",
       "      <th>AvgSessionDurationMinutes</th>\n",
       "      <th>PlayerLevel</th>\n",
       "      <th>AchievementsUnlocked</th>\n",
       "      <th>EngagementLevel</th>\n",
       "    </tr>\n",
       "  </thead>\n",
       "  <tbody>\n",
       "    <tr>\n",
       "      <th>3</th>\n",
       "      <td>9003</td>\n",
       "      <td>35</td>\n",
       "      <td>Male</td>\n",
       "      <td>USA</td>\n",
       "      <td>Action</td>\n",
       "      <td>5.265351</td>\n",
       "      <td>1</td>\n",
       "      <td>Easy</td>\n",
       "      <td>9</td>\n",
       "      <td>85</td>\n",
       "      <td>57</td>\n",
       "      <td>47</td>\n",
       "      <td>Medium</td>\n",
       "    </tr>\n",
       "    <tr>\n",
       "      <th>11</th>\n",
       "      <td>9011</td>\n",
       "      <td>36</td>\n",
       "      <td>Female</td>\n",
       "      <td>Asia</td>\n",
       "      <td>Simulation</td>\n",
       "      <td>5.535981</td>\n",
       "      <td>1</td>\n",
       "      <td>Easy</td>\n",
       "      <td>16</td>\n",
       "      <td>124</td>\n",
       "      <td>62</td>\n",
       "      <td>31</td>\n",
       "      <td>High</td>\n",
       "    </tr>\n",
       "    <tr>\n",
       "      <th>12</th>\n",
       "      <td>9012</td>\n",
       "      <td>16</td>\n",
       "      <td>Male</td>\n",
       "      <td>USA</td>\n",
       "      <td>Sports</td>\n",
       "      <td>18.776234</td>\n",
       "      <td>1</td>\n",
       "      <td>Easy</td>\n",
       "      <td>9</td>\n",
       "      <td>18</td>\n",
       "      <td>52</td>\n",
       "      <td>32</td>\n",
       "      <td>High</td>\n",
       "    </tr>\n",
       "    <tr>\n",
       "      <th>31</th>\n",
       "      <td>9031</td>\n",
       "      <td>39</td>\n",
       "      <td>Male</td>\n",
       "      <td>USA</td>\n",
       "      <td>Sports</td>\n",
       "      <td>3.374946</td>\n",
       "      <td>1</td>\n",
       "      <td>Easy</td>\n",
       "      <td>5</td>\n",
       "      <td>70</td>\n",
       "      <td>50</td>\n",
       "      <td>11</td>\n",
       "      <td>Medium</td>\n",
       "    </tr>\n",
       "    <tr>\n",
       "      <th>40</th>\n",
       "      <td>9040</td>\n",
       "      <td>49</td>\n",
       "      <td>Female</td>\n",
       "      <td>Europe</td>\n",
       "      <td>Strategy</td>\n",
       "      <td>13.714087</td>\n",
       "      <td>1</td>\n",
       "      <td>Medium</td>\n",
       "      <td>15</td>\n",
       "      <td>43</td>\n",
       "      <td>93</td>\n",
       "      <td>29</td>\n",
       "      <td>Medium</td>\n",
       "    </tr>\n",
       "  </tbody>\n",
       "</table>\n",
       "</div>"
      ],
      "text/plain": [
       "    PlayerID  Age  Gender Location   GameGenre  PlayTimeHours  \\\n",
       "3       9003   35    Male      USA      Action       5.265351   \n",
       "11      9011   36  Female     Asia  Simulation       5.535981   \n",
       "12      9012   16    Male      USA      Sports      18.776234   \n",
       "31      9031   39    Male      USA      Sports       3.374946   \n",
       "40      9040   49  Female   Europe    Strategy      13.714087   \n",
       "\n",
       "    InGamePurchases GameDifficulty  SessionsPerWeek  \\\n",
       "3                 1           Easy                9   \n",
       "11                1           Easy               16   \n",
       "12                1           Easy                9   \n",
       "31                1           Easy                5   \n",
       "40                1         Medium               15   \n",
       "\n",
       "    AvgSessionDurationMinutes  PlayerLevel  AchievementsUnlocked  \\\n",
       "3                          85           57                    47   \n",
       "11                        124           62                    31   \n",
       "12                         18           52                    32   \n",
       "31                         70           50                    11   \n",
       "40                         43           93                    29   \n",
       "\n",
       "   EngagementLevel  \n",
       "3           Medium  \n",
       "11            High  \n",
       "12            High  \n",
       "31          Medium  \n",
       "40          Medium  "
      ]
     },
     "execution_count": 10,
     "metadata": {},
     "output_type": "execute_result"
    }
   ],
   "source": [
    "df_p.head()"
   ]
  },
  {
   "cell_type": "markdown",
   "id": "64c25f73",
   "metadata": {},
   "source": [
    "#### No Purchases"
   ]
  },
  {
   "cell_type": "code",
   "execution_count": 9,
   "id": "54cd083e",
   "metadata": {},
   "outputs": [
    {
     "data": {
      "text/html": [
       "<div>\n",
       "<style scoped>\n",
       "    .dataframe tbody tr th:only-of-type {\n",
       "        vertical-align: middle;\n",
       "    }\n",
       "\n",
       "    .dataframe tbody tr th {\n",
       "        vertical-align: top;\n",
       "    }\n",
       "\n",
       "    .dataframe thead th {\n",
       "        text-align: right;\n",
       "    }\n",
       "</style>\n",
       "<table border=\"1\" class=\"dataframe\">\n",
       "  <thead>\n",
       "    <tr style=\"text-align: right;\">\n",
       "      <th></th>\n",
       "      <th>PlayerID</th>\n",
       "      <th>Age</th>\n",
       "      <th>Gender</th>\n",
       "      <th>Location</th>\n",
       "      <th>GameGenre</th>\n",
       "      <th>PlayTimeHours</th>\n",
       "      <th>InGamePurchases</th>\n",
       "      <th>GameDifficulty</th>\n",
       "      <th>SessionsPerWeek</th>\n",
       "      <th>AvgSessionDurationMinutes</th>\n",
       "      <th>PlayerLevel</th>\n",
       "      <th>AchievementsUnlocked</th>\n",
       "      <th>EngagementLevel</th>\n",
       "    </tr>\n",
       "  </thead>\n",
       "  <tbody>\n",
       "    <tr>\n",
       "      <th>0</th>\n",
       "      <td>9000</td>\n",
       "      <td>43</td>\n",
       "      <td>Male</td>\n",
       "      <td>Other</td>\n",
       "      <td>Strategy</td>\n",
       "      <td>16.271119</td>\n",
       "      <td>0</td>\n",
       "      <td>Medium</td>\n",
       "      <td>6</td>\n",
       "      <td>108</td>\n",
       "      <td>79</td>\n",
       "      <td>25</td>\n",
       "      <td>Medium</td>\n",
       "    </tr>\n",
       "    <tr>\n",
       "      <th>1</th>\n",
       "      <td>9001</td>\n",
       "      <td>29</td>\n",
       "      <td>Female</td>\n",
       "      <td>USA</td>\n",
       "      <td>Strategy</td>\n",
       "      <td>5.525961</td>\n",
       "      <td>0</td>\n",
       "      <td>Medium</td>\n",
       "      <td>5</td>\n",
       "      <td>144</td>\n",
       "      <td>11</td>\n",
       "      <td>10</td>\n",
       "      <td>Medium</td>\n",
       "    </tr>\n",
       "    <tr>\n",
       "      <th>2</th>\n",
       "      <td>9002</td>\n",
       "      <td>22</td>\n",
       "      <td>Female</td>\n",
       "      <td>USA</td>\n",
       "      <td>Sports</td>\n",
       "      <td>8.223755</td>\n",
       "      <td>0</td>\n",
       "      <td>Easy</td>\n",
       "      <td>16</td>\n",
       "      <td>142</td>\n",
       "      <td>35</td>\n",
       "      <td>41</td>\n",
       "      <td>High</td>\n",
       "    </tr>\n",
       "    <tr>\n",
       "      <th>4</th>\n",
       "      <td>9004</td>\n",
       "      <td>33</td>\n",
       "      <td>Male</td>\n",
       "      <td>Europe</td>\n",
       "      <td>Action</td>\n",
       "      <td>15.531945</td>\n",
       "      <td>0</td>\n",
       "      <td>Medium</td>\n",
       "      <td>2</td>\n",
       "      <td>131</td>\n",
       "      <td>95</td>\n",
       "      <td>37</td>\n",
       "      <td>Medium</td>\n",
       "    </tr>\n",
       "    <tr>\n",
       "      <th>5</th>\n",
       "      <td>9005</td>\n",
       "      <td>37</td>\n",
       "      <td>Male</td>\n",
       "      <td>Europe</td>\n",
       "      <td>RPG</td>\n",
       "      <td>20.561855</td>\n",
       "      <td>0</td>\n",
       "      <td>Easy</td>\n",
       "      <td>2</td>\n",
       "      <td>81</td>\n",
       "      <td>74</td>\n",
       "      <td>22</td>\n",
       "      <td>Low</td>\n",
       "    </tr>\n",
       "  </tbody>\n",
       "</table>\n",
       "</div>"
      ],
      "text/plain": [
       "   PlayerID  Age  Gender Location GameGenre  PlayTimeHours  InGamePurchases  \\\n",
       "0      9000   43    Male    Other  Strategy      16.271119                0   \n",
       "1      9001   29  Female      USA  Strategy       5.525961                0   \n",
       "2      9002   22  Female      USA    Sports       8.223755                0   \n",
       "4      9004   33    Male   Europe    Action      15.531945                0   \n",
       "5      9005   37    Male   Europe       RPG      20.561855                0   \n",
       "\n",
       "  GameDifficulty  SessionsPerWeek  AvgSessionDurationMinutes  PlayerLevel  \\\n",
       "0         Medium                6                        108           79   \n",
       "1         Medium                5                        144           11   \n",
       "2           Easy               16                        142           35   \n",
       "4         Medium                2                        131           95   \n",
       "5           Easy                2                         81           74   \n",
       "\n",
       "   AchievementsUnlocked EngagementLevel  \n",
       "0                    25          Medium  \n",
       "1                    10          Medium  \n",
       "2                    41            High  \n",
       "4                    37          Medium  \n",
       "5                    22             Low  "
      ]
     },
     "execution_count": 9,
     "metadata": {},
     "output_type": "execute_result"
    }
   ],
   "source": [
    "df_nop.head()"
   ]
  },
  {
   "cell_type": "markdown",
   "id": "65a7c9d7",
   "metadata": {},
   "source": [
    "### Here we see a grouping of the data by genres for each purchase. This is helpful because it shows us what types of games are among the most popular and are more likely to sell. So we see Strategy is the top selling Genre."
   ]
  },
  {
   "cell_type": "code",
   "execution_count": 11,
   "id": "1f6040be",
   "metadata": {},
   "outputs": [
    {
     "name": "stdout",
     "output_type": "stream",
     "text": [
      "GameGenre\n",
      "Action        1553\n",
      "RPG           1576\n",
      "Simulation    1610\n",
      "Sports        1622\n",
      "Strategy      1680\n",
      "dtype: int64\n"
     ]
    }
   ],
   "source": [
    "#Counts of purchases by Genre\n",
    "genre_counts = df_p.groupby('GameGenre').size()\n",
    "print(genre_counts)"
   ]
  },
  {
   "cell_type": "markdown",
   "id": "c646a11d",
   "metadata": {},
   "source": [
    "### Next we are looking at player engagement levels. The first is overall player engagement. We see majority fall into the Medium category. The second is showing player engagement of players with no purchases. And last we see player engagement of players with purchases. The three subsets are roughly the same percentages with Medium engagement as the most common."
   ]
  },
  {
   "cell_type": "code",
   "execution_count": 12,
   "id": "6058837a",
   "metadata": {},
   "outputs": [
    {
     "name": "stdout",
     "output_type": "stream",
     "text": [
      "Player Engagement Percentage:\n",
      "Medium    0.483939\n",
      "High      0.258181\n",
      "Low       0.257881\n",
      "Name: EngagementLevel, dtype: float64\n",
      "\n",
      "\n",
      "Engagement Percentage of Players with no purchases:\n",
      "Medium    0.484606\n",
      "Low       0.259025\n",
      "High      0.256369\n",
      "Name: EngagementLevel, dtype: float64\n",
      "\n",
      "\n",
      "Engagement Percentage of Players with purchases:\n",
      "Medium    0.481283\n",
      "High      0.265390\n",
      "Low       0.253327\n",
      "Name: EngagementLevel, dtype: float64\n"
     ]
    }
   ],
   "source": [
    "#Distribution of EngagementLevel\n",
    "print(\"Player Engagement Percentage:\")\n",
    "print(df['EngagementLevel'].value_counts(normalize=True))\n",
    "print(\"\\n\")\n",
    "print(\"Engagement Percentage of Players with no purchases:\")\n",
    "print(df_nop['EngagementLevel'].value_counts(normalize=True))\n",
    "print(\"\\n\")\n",
    "print(\"Engagement Percentage of Players with purchases:\")\n",
    "print(df_p['EngagementLevel'].value_counts(normalize=True))\n"
   ]
  },
  {
   "cell_type": "markdown",
   "id": "f5f715fc",
   "metadata": {},
   "source": [
    "### And here we see a bar chart showing the same engagement levels"
   ]
  },
  {
   "cell_type": "code",
   "execution_count": 13,
   "id": "f246cb01",
   "metadata": {},
   "outputs": [
    {
     "data": {
      "image/png": "[encoded data removed]",
      "text/plain": [
       "<Figure size 1000x500 with 1 Axes>"
      ]
     },
     "metadata": {},
     "output_type": "display_data"
    }
   ],
   "source": [
    "#Plotting Player Engagement Levels\n",
    "fig = plt.figure(figsize = (10, 5))\n",
    "x = df_p['EngagementLevel'].unique()\n",
    "y = df_p['EngagementLevel'].value_counts(normalize=True)\n",
    "# creating the bar plot\n",
    "plt.bar(x, y, color ='red', \n",
    "        width = 0.4)\n",
    "\n",
    "plt.xlabel(\"Engagement Level\")\n",
    "plt.ylabel(\"Percentage\")\n",
    "plt.title(\"Engagement Level of Players with In-Game Purchases\")\n",
    "plt.show()"
   ]
  },
  {
   "cell_type": "markdown",
   "id": "04d2896f",
   "metadata": {},
   "source": [
    "### Next we are going to look at several Player Statistics, the first is from players without purchases."
   ]
  },
  {
   "cell_type": "code",
   "execution_count": 14,
   "id": "f805e073",
   "metadata": {},
   "outputs": [
    {
     "name": "stdout",
     "output_type": "stream",
     "text": [
      "Players without Purchases Stats\n",
      "Average Playtime:  12.045395068315253\n",
      "Maximum Playtime:  23.999591633580454\n",
      "Average Sessions Per Week:  9.456943706435784\n",
      "Average Player Level:  49.56206045072359\n",
      "Maximum Level:  99\n",
      "Gender Counts:\n",
      " Male      19098\n",
      "Female    12895\n",
      "Name: Gender, dtype: int64\n"
     ]
    }
   ],
   "source": [
    "#lets look at some more statistics between the two data sets and see if there is a difference\n",
    "df_nop_avg_playtime = df_nop['PlayTimeHours'].mean()\n",
    "df_nop_max_playtime = df_nop['PlayTimeHours'].max()\n",
    "df_nop_snperweek = df_nop['SessionsPerWeek'].mean()\n",
    "df_nop_avg_playerlvl = df_nop['PlayerLevel'].mean()\n",
    "df_nop_max_playerlvl = df_nop['PlayerLevel'].max()\n",
    "df_nop_gender_counts = df_nop['Gender'].value_counts()\n",
    "df_nop_englvl = df_nop['EngagementLevel'].value_counts()\n",
    "\n",
    "#Players without Purchases\n",
    "print(\"Players without Purchases Stats\")\n",
    "print(\"Average Playtime: \", df_nop_avg_playtime)\n",
    "print(\"Maximum Playtime: \", df_nop_max_playtime)\n",
    "print(\"Average Sessions Per Week: \", df_nop_snperweek)\n",
    "print(\"Average Player Level: \", df_nop_avg_playerlvl)\n",
    "print(\"Maximum Level: \", df_nop_max_playerlvl)\n",
    "print(\"Gender Counts:\\n\", df_nop_gender_counts)"
   ]
  },
  {
   "cell_type": "markdown",
   "id": "b46b9350",
   "metadata": {},
   "source": [
    "### Here we see a histogram graph showing the distribution of those playtimes, with the marker showing the average"
   ]
  },
  {
   "cell_type": "code",
   "execution_count": 15,
   "id": "fa405fd3",
   "metadata": {},
   "outputs": [
    {
     "data": {
      "image/png": "[encoded data removed]",
      "text/plain": [
       "<Figure size 640x480 with 1 Axes>"
      ]
     },
     "metadata": {},
     "output_type": "display_data"
    }
   ],
   "source": [
    "#Distribution of Playtime with marker showing average of players with no purchases\n",
    "p_diffs = np.array(df_nop.PlayTimeHours)\n",
    "plt.title(\"Average Playtime Distribution - No Purchases\")\n",
    "plt.hist(p_diffs);\n",
    "plt.axvline(df_nop_avg_playtime, c='red');"
   ]
  },
  {
   "cell_type": "markdown",
   "id": "66e6680a",
   "metadata": {},
   "source": [
    "### And a standard deviation of 6.9"
   ]
  },
  {
   "cell_type": "code",
   "execution_count": 16,
   "id": "b33ab5d4",
   "metadata": {},
   "outputs": [
    {
     "data": {
      "text/plain": [
       "6.917055625425631"
      ]
     },
     "execution_count": 16,
     "metadata": {},
     "output_type": "execute_result"
    }
   ],
   "source": [
    "#Standard Deviation of Playtime Hours for players with no purchases\n",
    "df_nop_std_dev = statistics.stdev(df_nop.PlayTimeHours)\n",
    "df_nop_std_dev"
   ]
  },
  {
   "cell_type": "markdown",
   "id": "3516b487",
   "metadata": {},
   "source": [
    "### Now we'll look at those same player statistics, but from the other subset. So, players _with_ purchases."
   ]
  },
  {
   "cell_type": "code",
   "execution_count": 17,
   "id": "a64bc3bf",
   "metadata": {},
   "outputs": [
    {
     "name": "stdout",
     "output_type": "stream",
     "text": [
      "Players with Purchases Stats\n",
      "Average Playtime:  11.94\n",
      "Maximum Playtime:  23.997244733226548\n",
      "Average Sessions Per Week:  9.53\n",
      "Average Player Level:  50.03\n",
      "Average Engagement Level:  2680.33\n",
      "Maximum Level:  99\n",
      "Gender Counts:\n",
      " Male      4861\n",
      "Female    3180\n",
      "Name: Gender, dtype: int64\n"
     ]
    }
   ],
   "source": [
    "#Players with Purchases\n",
    "df_p_avg_playtime = df_p['PlayTimeHours'].mean().round(2)\n",
    "df_p_max_playtime = df_p['PlayTimeHours'].max()\n",
    "df_p_avg_snperweek = df_p['SessionsPerWeek'].mean().round(2)\n",
    "df_p_avg_playerlvl = df_p['PlayerLevel'].mean().round(2)\n",
    "df_p_max_playerlvl = df_p['PlayerLevel'].max()\n",
    "df_p_gender_counts = df_p['Gender'].value_counts()\n",
    "df_p_avg_englvl = df_p['EngagementLevel'].value_counts().mean().round(2)\n",
    "\n",
    "\n",
    "print(\"Players with Purchases Stats\")\n",
    "print(\"Average Playtime: \", df_p_avg_playtime)\n",
    "print(\"Maximum Playtime: \", df_p_max_playtime)\n",
    "print(\"Average Sessions Per Week: \", df_p_avg_snperweek)\n",
    "print(\"Average Player Level: \", df_p_avg_playerlvl)\n",
    "print(\"Average Engagement Level: \", df_p_avg_englvl)\n",
    "print(\"Maximum Level: \", df_p_max_playerlvl)\n",
    "print(\"Gender Counts:\\n\", df_p_gender_counts)"
   ]
  },
  {
   "cell_type": "markdown",
   "id": "16f7da8e",
   "metadata": {},
   "source": [
    "### The same histogram for this subset, with a marker showing the average, which is almost the same as the other subset."
   ]
  },
  {
   "cell_type": "code",
   "execution_count": 18,
   "id": "a160c3ad",
   "metadata": {},
   "outputs": [
    {
     "data": {
      "image/png": "[encoded data removed]",
      "text/plain": [
       "<Figure size 640x480 with 1 Axes>"
      ]
     },
     "metadata": {},
     "output_type": "display_data"
    }
   ],
   "source": [
    "#Distribution of Playtime with marker showing average of players with purchases\n",
    "p_diffs = np.array(df_p.PlayTimeHours)\n",
    "plt.title(\"Average Playtime Distribution - With Purchases\")\n",
    "plt.hist(p_diffs);\n",
    "plt.axvline(df_p_avg_playtime, c='red');"
   ]
  },
  {
   "cell_type": "markdown",
   "id": "550a12d5",
   "metadata": {},
   "source": [
    "### And here we see a similar standard deviation as well. So, there doesn't seem to be much difference between players with purchases and players without purchases, at least in terms of engagement levels."
   ]
  },
  {
   "cell_type": "code",
   "execution_count": 19,
   "id": "bce37ccc",
   "metadata": {},
   "outputs": [
    {
     "data": {
      "text/plain": [
       "6.9048053314250675"
      ]
     },
     "execution_count": 19,
     "metadata": {},
     "output_type": "execute_result"
    }
   ],
   "source": [
    "#Standard Deviation of Playtime Hours for players with purchases\n",
    "df_p_std_dev = statistics.stdev(df_p.PlayTimeHours)\n",
    "df_p_std_dev"
   ]
  },
  {
   "cell_type": "markdown",
   "id": "27587de5",
   "metadata": {},
   "source": [
    "### Now we will look at purchases by gender, to see if one is more likely to make purchases than the other (or probability analysis)."
   ]
  },
  {
   "cell_type": "code",
   "execution_count": 20,
   "id": "b8b47047",
   "metadata": {},
   "outputs": [
    {
     "name": "stdout",
     "output_type": "stream",
     "text": [
      "Male Players:  23959\n",
      "Male Purchases:  4861\n",
      "\n",
      "\n",
      "Female Players:  16075\n",
      "Female Purchases:  3180\n",
      "\n",
      "\n",
      "Probability of Male Player Purchases:  20.29\n",
      "Probability of Female Player Purchases:  19.78\n"
     ]
    }
   ],
   "source": [
    "#Purchases by Gender\n",
    "male_players = df[df['Gender'] == 'Male']\n",
    "male_players = male_players.shape[0]\n",
    "\n",
    "male_purchases = df_p[df_p['Gender'] == 'Male']\n",
    "male_purchases = male_purchases['InGamePurchases'].sum()\n",
    "\n",
    "female_players = df[df['Gender'] == 'Female']\n",
    "female_players = female_players.shape[0]\n",
    "\n",
    "female_purchases = df_p[df_p['Gender'] == 'Female']\n",
    "female_purchases = female_purchases['InGamePurchases'].sum()\n",
    "\n",
    "male_player_pur_prob = (male_purchases / male_players) * 100\n",
    "female_player_pur_prob = (female_purchases / female_players) * 100\n",
    "\n",
    "print(\"Male Players: \", male_players)\n",
    "print(\"Male Purchases: \", male_purchases)\n",
    "print(\"\\n\")\n",
    "print(\"Female Players: \", female_players)\n",
    "print(\"Female Purchases: \", female_purchases)\n",
    "print(\"\\n\")\n",
    "print(\"Probability of Male Player Purchases: \", male_player_pur_prob.round(2))\n",
    "print(\"Probability of Female Player Purchases: \", female_player_pur_prob.round(2))\n",
    "\n",
    "prob_list = [male_player_pur_prob.round(2), female_player_pur_prob.round(2)]\n",
    "gender_list = [\"Male\", \"Female\"]"
   ]
  },
  {
   "cell_type": "markdown",
   "id": "c26b5bc2",
   "metadata": {},
   "source": [
    "### So, we see about the same probability, even though males outnumber females, the probability of purchase between each gender is still about that same. And we can see in the below bar chart as well."
   ]
  },
  {
   "cell_type": "code",
   "execution_count": 21,
   "id": "8d00e130",
   "metadata": {},
   "outputs": [
    {
     "data": {
      "image/png": "[encoded data removed]",
      "text/plain": [
       "<Figure size 1000x500 with 1 Axes>"
      ]
     },
     "metadata": {},
     "output_type": "display_data"
    }
   ],
   "source": [
    "#Plotting Probability\n",
    "fig = plt.figure(figsize = (10, 5))\n",
    "x = gender_list\n",
    "y = prob_list\n",
    "# creating the bar plot\n",
    "plt.bar(x, y, color ='blue', \n",
    "        width = 0.4)\n",
    "\n",
    "plt.xlabel(\"Gender\")\n",
    "plt.ylabel(\"Probability Percentage\")\n",
    "plt.title(\"Probability of Each Gender Making a Purchase\")\n",
    "plt.show()"
   ]
  },
  {
   "cell_type": "markdown",
   "id": "575ec2aa",
   "metadata": {},
   "source": [
    "### Next we look at Players' play time by Age to see if any age groups play more or less than the others"
   ]
  },
  {
   "cell_type": "code",
   "execution_count": 22,
   "id": "700bf66d",
   "metadata": {},
   "outputs": [
    {
     "data": {
      "text/html": [
       "<div>\n",
       "<style scoped>\n",
       "    .dataframe tbody tr th:only-of-type {\n",
       "        vertical-align: middle;\n",
       "    }\n",
       "\n",
       "    .dataframe tbody tr th {\n",
       "        vertical-align: top;\n",
       "    }\n",
       "\n",
       "    .dataframe thead th {\n",
       "        text-align: right;\n",
       "    }\n",
       "</style>\n",
       "<table border=\"1\" class=\"dataframe\">\n",
       "  <thead>\n",
       "    <tr style=\"text-align: right;\">\n",
       "      <th></th>\n",
       "      <th>PlayTimeHours</th>\n",
       "      <th>SessionsPerWeek</th>\n",
       "      <th>AvgSessionDurationMinutes</th>\n",
       "    </tr>\n",
       "    <tr>\n",
       "      <th>Age</th>\n",
       "      <th></th>\n",
       "      <th></th>\n",
       "      <th></th>\n",
       "    </tr>\n",
       "  </thead>\n",
       "  <tbody>\n",
       "    <tr>\n",
       "      <th>15</th>\n",
       "      <td>11.511604</td>\n",
       "      <td>9.753363</td>\n",
       "      <td>91.573991</td>\n",
       "    </tr>\n",
       "    <tr>\n",
       "      <th>16</th>\n",
       "      <td>12.105001</td>\n",
       "      <td>9.375527</td>\n",
       "      <td>94.088608</td>\n",
       "    </tr>\n",
       "    <tr>\n",
       "      <th>17</th>\n",
       "      <td>11.316841</td>\n",
       "      <td>8.695279</td>\n",
       "      <td>95.708155</td>\n",
       "    </tr>\n",
       "    <tr>\n",
       "      <th>18</th>\n",
       "      <td>11.682332</td>\n",
       "      <td>9.389140</td>\n",
       "      <td>92.565611</td>\n",
       "    </tr>\n",
       "    <tr>\n",
       "      <th>19</th>\n",
       "      <td>11.690240</td>\n",
       "      <td>8.979757</td>\n",
       "      <td>98.878543</td>\n",
       "    </tr>\n",
       "    <tr>\n",
       "      <th>20</th>\n",
       "      <td>11.307270</td>\n",
       "      <td>8.642105</td>\n",
       "      <td>95.194737</td>\n",
       "    </tr>\n",
       "    <tr>\n",
       "      <th>21</th>\n",
       "      <td>11.700382</td>\n",
       "      <td>8.906383</td>\n",
       "      <td>94.208511</td>\n",
       "    </tr>\n",
       "    <tr>\n",
       "      <th>22</th>\n",
       "      <td>12.143351</td>\n",
       "      <td>9.672986</td>\n",
       "      <td>91.090047</td>\n",
       "    </tr>\n",
       "    <tr>\n",
       "      <th>23</th>\n",
       "      <td>12.237431</td>\n",
       "      <td>9.255507</td>\n",
       "      <td>94.048458</td>\n",
       "    </tr>\n",
       "    <tr>\n",
       "      <th>24</th>\n",
       "      <td>11.857758</td>\n",
       "      <td>9.535565</td>\n",
       "      <td>93.422594</td>\n",
       "    </tr>\n",
       "    <tr>\n",
       "      <th>25</th>\n",
       "      <td>12.542946</td>\n",
       "      <td>9.767717</td>\n",
       "      <td>95.106299</td>\n",
       "    </tr>\n",
       "    <tr>\n",
       "      <th>26</th>\n",
       "      <td>11.780446</td>\n",
       "      <td>9.600877</td>\n",
       "      <td>94.311404</td>\n",
       "    </tr>\n",
       "    <tr>\n",
       "      <th>27</th>\n",
       "      <td>12.395408</td>\n",
       "      <td>9.153509</td>\n",
       "      <td>91.890351</td>\n",
       "    </tr>\n",
       "    <tr>\n",
       "      <th>28</th>\n",
       "      <td>12.121340</td>\n",
       "      <td>10.336066</td>\n",
       "      <td>94.295082</td>\n",
       "    </tr>\n",
       "    <tr>\n",
       "      <th>29</th>\n",
       "      <td>12.107332</td>\n",
       "      <td>9.504425</td>\n",
       "      <td>95.194690</td>\n",
       "    </tr>\n",
       "    <tr>\n",
       "      <th>30</th>\n",
       "      <td>11.366600</td>\n",
       "      <td>10.215686</td>\n",
       "      <td>97.831373</td>\n",
       "    </tr>\n",
       "    <tr>\n",
       "      <th>31</th>\n",
       "      <td>11.724469</td>\n",
       "      <td>9.168889</td>\n",
       "      <td>95.186667</td>\n",
       "    </tr>\n",
       "    <tr>\n",
       "      <th>32</th>\n",
       "      <td>12.171496</td>\n",
       "      <td>9.459091</td>\n",
       "      <td>101.563636</td>\n",
       "    </tr>\n",
       "    <tr>\n",
       "      <th>33</th>\n",
       "      <td>12.185343</td>\n",
       "      <td>9.161290</td>\n",
       "      <td>90.064516</td>\n",
       "    </tr>\n",
       "    <tr>\n",
       "      <th>34</th>\n",
       "      <td>11.543382</td>\n",
       "      <td>9.211982</td>\n",
       "      <td>93.884793</td>\n",
       "    </tr>\n",
       "    <tr>\n",
       "      <th>35</th>\n",
       "      <td>12.293102</td>\n",
       "      <td>10.093220</td>\n",
       "      <td>93.292373</td>\n",
       "    </tr>\n",
       "    <tr>\n",
       "      <th>36</th>\n",
       "      <td>12.266441</td>\n",
       "      <td>9.451613</td>\n",
       "      <td>99.695853</td>\n",
       "    </tr>\n",
       "    <tr>\n",
       "      <th>37</th>\n",
       "      <td>11.677771</td>\n",
       "      <td>9.589958</td>\n",
       "      <td>97.774059</td>\n",
       "    </tr>\n",
       "    <tr>\n",
       "      <th>38</th>\n",
       "      <td>11.776813</td>\n",
       "      <td>9.857778</td>\n",
       "      <td>94.222222</td>\n",
       "    </tr>\n",
       "    <tr>\n",
       "      <th>39</th>\n",
       "      <td>11.946205</td>\n",
       "      <td>9.677686</td>\n",
       "      <td>92.008264</td>\n",
       "    </tr>\n",
       "    <tr>\n",
       "      <th>40</th>\n",
       "      <td>11.626380</td>\n",
       "      <td>9.722222</td>\n",
       "      <td>103.079365</td>\n",
       "    </tr>\n",
       "    <tr>\n",
       "      <th>41</th>\n",
       "      <td>12.226094</td>\n",
       "      <td>9.752896</td>\n",
       "      <td>96.521236</td>\n",
       "    </tr>\n",
       "    <tr>\n",
       "      <th>42</th>\n",
       "      <td>12.577809</td>\n",
       "      <td>9.280851</td>\n",
       "      <td>90.825532</td>\n",
       "    </tr>\n",
       "    <tr>\n",
       "      <th>43</th>\n",
       "      <td>12.223974</td>\n",
       "      <td>9.610619</td>\n",
       "      <td>93.995575</td>\n",
       "    </tr>\n",
       "    <tr>\n",
       "      <th>44</th>\n",
       "      <td>11.346107</td>\n",
       "      <td>9.383966</td>\n",
       "      <td>91.400844</td>\n",
       "    </tr>\n",
       "    <tr>\n",
       "      <th>45</th>\n",
       "      <td>11.535477</td>\n",
       "      <td>10.130631</td>\n",
       "      <td>90.126126</td>\n",
       "    </tr>\n",
       "    <tr>\n",
       "      <th>46</th>\n",
       "      <td>12.279037</td>\n",
       "      <td>10.314159</td>\n",
       "      <td>93.137168</td>\n",
       "    </tr>\n",
       "    <tr>\n",
       "      <th>47</th>\n",
       "      <td>12.210393</td>\n",
       "      <td>9.801762</td>\n",
       "      <td>93.026432</td>\n",
       "    </tr>\n",
       "    <tr>\n",
       "      <th>48</th>\n",
       "      <td>12.525574</td>\n",
       "      <td>9.328502</td>\n",
       "      <td>92.425121</td>\n",
       "    </tr>\n",
       "    <tr>\n",
       "      <th>49</th>\n",
       "      <td>11.900145</td>\n",
       "      <td>9.476636</td>\n",
       "      <td>93.570093</td>\n",
       "    </tr>\n",
       "  </tbody>\n",
       "</table>\n",
       "</div>"
      ],
      "text/plain": [
       "     PlayTimeHours  SessionsPerWeek  AvgSessionDurationMinutes\n",
       "Age                                                           \n",
       "15       11.511604         9.753363                  91.573991\n",
       "16       12.105001         9.375527                  94.088608\n",
       "17       11.316841         8.695279                  95.708155\n",
       "18       11.682332         9.389140                  92.565611\n",
       "19       11.690240         8.979757                  98.878543\n",
       "20       11.307270         8.642105                  95.194737\n",
       "21       11.700382         8.906383                  94.208511\n",
       "22       12.143351         9.672986                  91.090047\n",
       "23       12.237431         9.255507                  94.048458\n",
       "24       11.857758         9.535565                  93.422594\n",
       "25       12.542946         9.767717                  95.106299\n",
       "26       11.780446         9.600877                  94.311404\n",
       "27       12.395408         9.153509                  91.890351\n",
       "28       12.121340        10.336066                  94.295082\n",
       "29       12.107332         9.504425                  95.194690\n",
       "30       11.366600        10.215686                  97.831373\n",
       "31       11.724469         9.168889                  95.186667\n",
       "32       12.171496         9.459091                 101.563636\n",
       "33       12.185343         9.161290                  90.064516\n",
       "34       11.543382         9.211982                  93.884793\n",
       "35       12.293102        10.093220                  93.292373\n",
       "36       12.266441         9.451613                  99.695853\n",
       "37       11.677771         9.589958                  97.774059\n",
       "38       11.776813         9.857778                  94.222222\n",
       "39       11.946205         9.677686                  92.008264\n",
       "40       11.626380         9.722222                 103.079365\n",
       "41       12.226094         9.752896                  96.521236\n",
       "42       12.577809         9.280851                  90.825532\n",
       "43       12.223974         9.610619                  93.995575\n",
       "44       11.346107         9.383966                  91.400844\n",
       "45       11.535477        10.130631                  90.126126\n",
       "46       12.279037        10.314159                  93.137168\n",
       "47       12.210393         9.801762                  93.026432\n",
       "48       12.525574         9.328502                  92.425121\n",
       "49       11.900145         9.476636                  93.570093"
      ]
     },
     "execution_count": 22,
     "metadata": {},
     "output_type": "execute_result"
    }
   ],
   "source": [
    "#Averages of Players with purchases grouped by Age\n",
    "df_p_grp = df[df['InGamePurchases'] == 1]\n",
    "df_p_grp = df_p_grp.groupby('Age').mean(numeric_only=True)\n",
    "df_p_grp = df_p_grp[['PlayTimeHours', 'SessionsPerWeek', 'AvgSessionDurationMinutes']]\n",
    "df_p_grp"
   ]
  },
  {
   "cell_type": "markdown",
   "id": "68ef5544",
   "metadata": {},
   "source": [
    "### That's a lot of data, so that was put into the bar chart below so we can better visualize it."
   ]
  },
  {
   "cell_type": "code",
   "execution_count": 23,
   "id": "7d8a8a39",
   "metadata": {},
   "outputs": [
    {
     "data": {
      "image/png": "[encoded data removed]",
      "text/plain": [
       "<Figure size 1000x500 with 1 Axes>"
      ]
     },
     "metadata": {},
     "output_type": "display_data"
    }
   ],
   "source": [
    "#Plotting Average Playtime of Players by Age\n",
    "fig = plt.figure(figsize = (10, 5))\n",
    "x = df['Age'].unique()\n",
    "y = df_p_grp['PlayTimeHours']\n",
    "# creating the bar plot\n",
    "plt.bar(x, y, color ='navy')\n",
    "\n",
    "plt.xlabel(\"Age\")\n",
    "plt.ylabel(\"Average Playtime\")\n",
    "plt.title(\"Average Playtime of Players by Age\")\n",
    "plt.show()"
   ]
  },
  {
   "cell_type": "markdown",
   "id": "5354c16a",
   "metadata": {},
   "source": [
    "### Finally, we will take a look at Location Analysis, which will show us from which countries players made the most purchases. We see that in the horizontal bar chart below, USA and Europe make the most purchases. "
   ]
  },
  {
   "cell_type": "code",
   "execution_count": 24,
   "id": "8838b209",
   "metadata": {},
   "outputs": [
    {
     "data": {
      "text/plain": [
       "<Axes: ylabel='Location'>"
      ]
     },
     "execution_count": 24,
     "metadata": {},
     "output_type": "execute_result"
    },
    {
     "data": {
      "image/png": "[encoded data removed]",
      "text/plain": [
       "<Figure size 640x480 with 1 Axes>"
      ]
     },
     "metadata": {},
     "output_type": "display_data"
    }
   ],
   "source": [
    "#Data is grouped by Location\n",
    "df_p_grp_loc = df_p.groupby(\"Location\").sum(numeric_only=True).reset_index()\n",
    "df_p_grp_loc = df_p_grp_loc[['Location','InGamePurchases']]\n",
    "df_p_grp_loc.sort_values(['InGamePurchases'], ascending=[True], inplace=True)\n",
    "df_p_grp_loc.plot(kind='barh', x='Location', y='InGamePurchases')"
   ]
  },
  {
   "cell_type": "markdown",
   "id": "6775ca83",
   "metadata": {},
   "source": [
    "### Next we will look at Hypothesis testing. The first test is looking at the original Hypothesis. Finding a correlation between PlayTimeHours and InGamePurchases, but there was no correlation there."
   ]
  },
  {
   "cell_type": "code",
   "execution_count": 25,
   "id": "3ada1843",
   "metadata": {},
   "outputs": [
    {
     "name": "stdout",
     "output_type": "stream",
     "text": [
      "p value:nan\n",
      "correlation:nan\n"
     ]
    },
    {
     "name": "stderr",
     "output_type": "stream",
     "text": [
      "C:\\Users\\gmar8\\anaconda3\\lib\\site-packages\\scipy\\stats\\_stats_py.py:4424: ConstantInputWarning: An input array is constant; the correlation coefficient is not defined.\n",
      "  warnings.warn(stats.ConstantInputWarning(msg))\n"
     ]
    }
   ],
   "source": [
    "stat, p_val= stats.pearsonr(df_p['PlayTimeHours'], df_p['InGamePurchases'])\n",
    "print(\"p value:%.4f\" % p_val)\n",
    "print(\"correlation:%.4f\" % stat)"
   ]
  },
  {
   "cell_type": "markdown",
   "id": "888e507f",
   "metadata": {},
   "source": [
    "### So then we looked at PlayTimeHours with Age just to see, which gave us values that are not significant."
   ]
  },
  {
   "cell_type": "code",
   "execution_count": 26,
   "id": "f92000fa",
   "metadata": {},
   "outputs": [
    {
     "name": "stdout",
     "output_type": "stream",
     "text": [
      "p value:0.6223\n",
      "correlation:0.0025\n"
     ]
    }
   ],
   "source": [
    "stat, p_val= stats.pearsonr(df['PlayTimeHours'], df['Age'])\n",
    "print(\"p value:%.4f\" % p_val)\n",
    "print(\"correlation:%.4f\" % stat)"
   ]
  },
  {
   "cell_type": "markdown",
   "id": "5c11b7cf",
   "metadata": {},
   "source": [
    "### At this point, we have completed the analysis and will go over the report below"
   ]
  },
  {
   "cell_type": "markdown",
   "id": "6e6b103d",
   "metadata": {},
   "source": [
    "### Report"
   ]
  },
  {
   "cell_type": "markdown",
   "id": "fd5df833",
   "metadata": {},
   "source": [
    "__The Hypothesis:__\n",
    "\n",
    "InGamePurchases increases as AveragePlayTime or EngagementLevel increases (or positive correlation).\n",
    "\n",
    "__The Conclusion:__ \n",
    "\n",
    "Based on these results, we can conclude that there is no positive correlation between InGamePurchases and AveragePlayTime or EngagementLevel. Nor is there strong evidence to prove that higher engagement levels are associated with more in game purchases. \n",
    "\n",
    "__The Alternate Hypothesis:__ \n",
    "\n",
    "Male players are more likely to make purchases than Female players.\n",
    "\n",
    "__The Concluson:__ \n",
    "\n",
    "There was not a significant difference in probability between gender purchases. There was a signifcantly higher number of male players than female players. However, the probability of purchase was nearly identical between the two genders, with only around a half (0.51%) difference in favor of male purchase probability. \n",
    "\n",
    "__My Closing Thoughts:__\n",
    "\n",
    "After thorough analysis, there is little variance in the data and therefore drawing meaningful insights has proven to be a challenge. For example, correlation analysis showed a weak score across all data points. Furthermore, probability was nearly identical between male and female players in terms of making a purchase. Age was also looked at but there was still only small variance.\n",
    "\n",
    "### From these results, my recommendations would be simply to focus on developing strategy games for players in USA and Europe regardless of age, gender, engagement levels or playtime averages.\n",
    "\n",
    "#### Additional insights gained\n",
    "\n",
    "_Probability of Purchase:_ 20%\n",
    "\n",
    "_Country with Most Purchases:_ USA\n",
    "\n",
    "_Best-Selling Genre:_ Strategy\n",
    "\n",
    "_Most Common Engagement Level:_ Medium\n",
    "\n",
    "_Percentage of Male Players:_ 59.85%\n",
    "\n",
    "_Percentage of Female Players:_ 40.15%\n"
   ]
  },
  {
   "cell_type": "markdown",
   "id": "3a529651",
   "metadata": {},
   "source": [
    "### This concludes my analysis report. Thank you."
   ]
  }
 ],
 "metadata": {
  "kernelspec": {
   "display_name": "Python [conda env:base] *",
   "language": "python",
   "name": "conda-base-py"
  },
  "language_info": {
   "codemirror_mode": {
    "name": "ipython",
    "version": 3
   },
   "file_extension": ".py",
   "mimetype": "text/x-python",
   "name": "python",
   "nbconvert_exporter": "python",
   "pygments_lexer": "ipython3",
   "version": "3.12.7"
  }
 },
 "nbformat": 4,
 "nbformat_minor": 5
}
